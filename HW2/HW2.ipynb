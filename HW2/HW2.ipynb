{
 "cells": [
  {
   "cell_type": "markdown",
   "metadata": {},
   "source": [
    "## HW2: Linear Discriminant Analysis\n",
    "In hw2, you need to implement Fisher’s linear discriminant by using only numpy, then train your implemented model by the provided dataset and test the performance with testing data\n",
    "\n",
    "Please note that only **NUMPY** can be used to implement your model, you will get no points by calling sklearn.discriminant_analysis.LinearDiscriminantAnalysis "
   ]
  },
  {
   "cell_type": "markdown",
   "metadata": {},
   "source": [
    "## Load data"
   ]
  },
  {
   "cell_type": "code",
   "execution_count": 1,
   "metadata": {},
   "outputs": [],
   "source": [
    "import numpy as np"
   ]
  },
  {
   "cell_type": "code",
   "execution_count": 2,
   "metadata": {},
   "outputs": [],
   "source": [
    "x_train = np.load(\"x_train.npy\")\n",
    "y_train = np.load(\"y_train.npy\")\n",
    "x_test = np.load(\"x_test.npy\")\n",
    "y_test = np.load(\"y_test.npy\")"
   ]
  },
  {
   "cell_type": "code",
   "execution_count": 3,
   "metadata": {},
   "outputs": [
    {
     "name": "stdout",
     "output_type": "stream",
     "text": [
      "(750, 2)\n",
      "(750,)\n",
      "(250, 2)\n",
      "(250,)\n"
     ]
    }
   ],
   "source": [
    "print(x_train.shape)\n",
    "print(y_train.shape)\n",
    "print(x_test.shape)\n",
    "print(y_test.shape)"
   ]
  },
  {
   "cell_type": "markdown",
   "metadata": {},
   "source": [
    "## 1. Compute the mean vectors mi, (i=1,2) of each 2 classes"
   ]
  },
  {
   "cell_type": "code",
   "execution_count": 4,
   "metadata": {},
   "outputs": [],
   "source": [
    "count_class = {0: 0, 1: 0}\n",
    "count = 0\n",
    "m = 0\n",
    "m1 = 0\n",
    "m2 = 0\n",
    "\n",
    "for i in range(len(x_train)):\n",
    "    count += 1\n",
    "    count_class[y_train[i]] += 1\n",
    "    if y_train[i] == 0:\n",
    "        m1 += x_train[i]\n",
    "    else:\n",
    "        m2 += x_train[i]\n",
    "    m += x_train[i]\n",
    "\n",
    "m /= count\n",
    "m1 /= count_class[0]\n",
    "m2 /= count_class[1]"
   ]
  },
  {
   "cell_type": "code",
   "execution_count": 5,
   "metadata": {},
   "outputs": [
    {
     "name": "stdout",
     "output_type": "stream",
     "text": [
      "mean vector of class 1: [ 1.3559426  -1.34746216], mean vector of class 2: [-1.29735587  1.29096203]\n"
     ]
    }
   ],
   "source": [
    "print(f\"mean vector of class 1: {m1}, mean vector of class 2: {m2}\")"
   ]
  },
  {
   "cell_type": "markdown",
   "metadata": {},
   "source": [
    "## 2. Compute the Within-class scatter matrix SW"
   ]
  },
  {
   "cell_type": "code",
   "execution_count": 6,
   "metadata": {},
   "outputs": [],
   "source": [
    "sw = np.zeros((2, 2))\n",
    "\n",
    "for i in range(len(x_train)):\n",
    "    if y_train[i] == 0:\n",
    "        sw += np.dot((np.array([x_train[i]]) - m1).T, (np.array([x_train[i]]) - m1))\n",
    "    else:\n",
    "        sw += np.dot((np.array([x_train[i]]) - m2).T, (np.array([x_train[i]]) - m2))"
   ]
  },
  {
   "cell_type": "code",
   "execution_count": 7,
   "metadata": {},
   "outputs": [
    {
     "name": "stdout",
     "output_type": "stream",
     "text": [
      "Within-class scatter matrix SW:\n",
      "[[ 388.64001349 -228.92177708]\n",
      " [-228.92177708  665.56910433]]\n"
     ]
    }
   ],
   "source": [
    "assert sw.shape == (2,2)\n",
    "print(f\"Within-class scatter matrix SW:\\n{sw}\")"
   ]
  },
  {
   "cell_type": "markdown",
   "metadata": {},
   "source": [
    "## 3.  Compute the Between-class scatter matrix SB"
   ]
  },
  {
   "cell_type": "code",
   "execution_count": 8,
   "metadata": {},
   "outputs": [],
   "source": [
    "sb = np.dot(np.array([m2 - m1]).T, np.array([m2 - m1]))"
   ]
  },
  {
   "cell_type": "code",
   "execution_count": 9,
   "metadata": {},
   "outputs": [
    {
     "name": "stdout",
     "output_type": "stream",
     "text": [
      "Between-class scatter matrix SB:\n",
      "[[ 7.03999279 -7.00052687]\n",
      " [-7.00052687  6.9612822 ]]\n"
     ]
    }
   ],
   "source": [
    "assert sb.shape == (2,2)\n",
    "print(f\"Between-class scatter matrix SB:\\n{sb}\")"
   ]
  },
  {
   "cell_type": "markdown",
   "metadata": {},
   "source": [
    "## 4. Compute the Fisher’s linear discriminant"
   ]
  },
  {
   "cell_type": "code",
   "execution_count": 10,
   "metadata": {},
   "outputs": [],
   "source": [
    "from numpy.linalg import inv\n",
    "\n",
    "swinv = inv(sw)\n",
    "w = np.dot(swinv, np.array([m2 - m1]).T)"
   ]
  },
  {
   "cell_type": "code",
   "execution_count": 11,
   "metadata": {},
   "outputs": [
    {
     "name": "stdout",
     "output_type": "stream",
     "text": [
      "Fisher’s linear discriminant:\n",
      "[[-0.00563343]\n",
      " [ 0.00202655]]\n"
     ]
    }
   ],
   "source": [
    "assert w.shape == (2,1)\n",
    "print(f\"Fisher’s linear discriminant:\\n{w}\")"
   ]
  },
  {
   "cell_type": "markdown",
   "metadata": {},
   "source": [
    "## 5. Testing\n",
    "Project the test data by linear discriminant to get the class prediction by nearest-neighbor rule and calculate the accuracy score "
   ]
  },
  {
   "cell_type": "code",
   "execution_count": 12,
   "metadata": {},
   "outputs": [],
   "source": [
    "import math\n",
    "\n",
    "x_proj = np.dot(x_train, w)\n",
    "y_proj = np.dot(x_test, w)\n",
    "y_pred = []\n",
    "\n",
    "for i in range(len(y_proj)):\n",
    "    minimum = math.inf\n",
    "    pos = 0\n",
    "    for j in range(len(x_proj)):\n",
    "        if minimum > abs(y_proj[i] - x_proj[j]):\n",
    "            minimum = abs(y_proj[i] - x_proj[j])\n",
    "            pos = j\n",
    "    y_pred.append(y_train[pos])"
   ]
  },
  {
   "cell_type": "code",
   "execution_count": 13,
   "metadata": {},
   "outputs": [],
   "source": [
    "from sklearn.metrics import accuracy_score\n",
    "\n",
    "acc = accuracy_score(y_test, y_pred)"
   ]
  },
  {
   "cell_type": "code",
   "execution_count": 14,
   "metadata": {},
   "outputs": [
    {
     "name": "stdout",
     "output_type": "stream",
     "text": [
      "Accuracy of test-set 0.916\n"
     ]
    }
   ],
   "source": [
    "print(f\"Accuracy of test-set {acc}\")"
   ]
  },
  {
   "cell_type": "markdown",
   "metadata": {},
   "source": [
    "## 6. Visualization\n",
    "1. Plot the best projection line on the training data and show the slope and intercept on the title (you can choose any value of intercept for better visualization)\n",
    "2. Colorize the data with each class \n",
    "3. Project all data points on your projection line.\n",
    "\n",
    "Your result should look like [this image](https://i.imgur.com/tubMQpw.jpg)"
   ]
  },
  {
   "cell_type": "code",
   "execution_count": 15,
   "metadata": {},
   "outputs": [
    {
     "data": {
      "image/png": "[encoded data removed]",
      "text/plain": [
       "<Figure size 432x288 with 1 Axes>"
      ]
     },
     "metadata": {
      "needs_background": "light"
     },
     "output_type": "display_data"
    }
   ],
   "source": [
    "import matplotlib.pyplot as plt\n",
    "\n",
    "plt.title(f'Projection Line: w={-(w[0] / w[1])[0]}, b={((w[0] / w[1]) * m[0] + m[1])[0]}')\n",
    "plt.axis('equal')\n",
    "\n",
    "y_train_color = np.where(y_train == 0, 'b', 'r')\n",
    "        \n",
    "plt.scatter(x_train[:, 0], x_train[:, 1], c=y_train_color, marker='.')\n",
    "\n",
    "x = np.array([-1.5, 1.5])\n",
    "y = -(w[0] / w[1]) * x + (w[0] / w[1]) * m[0] + m[1]\n",
    "plt.plot(x, y, color='g')\n",
    "\n",
    "t = (w[0] * x_train[:, 0] + w[1] * x_train[:, 1] - w[0] * m[0] - w[1] * m[1]) / (pow(w[0], 2) + pow(w[1], 2))\n",
    "x_train_proj = np.array([x_train[:, 0] - w[0] * t, x_train[:, 1] - w[1] * t]).T\n",
    "\n",
    "plt.scatter(x_train_proj[:, 0], x_train_proj[:, 1], c=y_train_color)\n",
    "for i in range(len(x_train)):\n",
    "    plt.plot([x_train[i, 0], x_train_proj[i, 0]], [x_train[i, 1], x_train_proj[i, 1]], c='y', alpha=0.1)"
   ]
  },
  {
   "cell_type": "code",
   "execution_count": null,
   "metadata": {},
   "outputs": [],
   "source": []
  }
 ],
 "metadata": {
  "kernelspec": {
   "display_name": "Python 3",
   "language": "python",
   "name": "python3"
  },
  "language_info": {
   "codemirror_mode": {
    "name": "ipython",
    "version": 3
   },
   "file_extension": ".py",
   "mimetype": "text/x-python",
   "name": "python",
   "nbconvert_exporter": "python",
   "pygments_lexer": "ipython3",
   "version": "3.6.9"
  }
 },
 "nbformat": 4,
 "nbformat_minor": 4
}
