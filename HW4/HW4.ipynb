{
 "cells": [
  {
   "cell_type": "code",
   "execution_count": 1,
   "metadata": {},
   "outputs": [],
   "source": [
    "import numpy as np\n",
    "import pandas as pd\n",
    "from sklearn.svm import SVC, SVR\n",
    "from sklearn.metrics import accuracy_score, mean_squared_error"
   ]
  },
  {
   "cell_type": "markdown",
   "metadata": {},
   "source": [
    "## Load data"
   ]
  },
  {
   "cell_type": "code",
   "execution_count": 2,
   "metadata": {},
   "outputs": [],
   "source": [
    "x_train = np.load(\"x_train.npy\")\n",
    "y_train = np.load(\"y_train.npy\")\n",
    "x_test = np.load(\"x_test.npy\")\n",
    "y_test = np.load(\"y_test.npy\")"
   ]
  },
  {
   "cell_type": "code",
   "execution_count": 3,
   "metadata": {},
   "outputs": [
    {
     "name": "stdout",
     "output_type": "stream",
     "text": [
      "(550, 300)\n"
     ]
    }
   ],
   "source": [
    "# 550 data with 300 features\n",
    "print(x_train.shape)"
   ]
  },
  {
   "cell_type": "code",
   "execution_count": 4,
   "metadata": {},
   "outputs": [
    {
     "name": "stdout",
     "output_type": "stream",
     "text": [
      "[0 1]\n"
     ]
    }
   ],
   "source": [
    "# It's a binary classification problem \n",
    "print(np.unique(y_train))"
   ]
  },
  {
   "cell_type": "markdown",
   "metadata": {},
   "source": [
    "## Question 1\n",
    "K-fold data partition: Implement the K-fold cross-validation function. Your function should take K as an argument and return a list of lists (len(list) should equal to K), which contains K elements. Each element is a list contains two parts, the first part contains the index of all training folds, e.g. Fold 2 to Fold 5 in split 1. The second part contains the index of validation fold, e.g. Fold 1 in  split 1"
   ]
  },
  {
   "cell_type": "code",
   "execution_count": 5,
   "metadata": {},
   "outputs": [],
   "source": [
    "def cross_validation(x_train, y_train, k=5):\n",
    "    x_train_idx = np.arange(len(x_train))  # create a list of index\n",
    "    np.random.shuffle(x_train_idx)\n",
    "    num_elements = int(len(x_train) / k)\n",
    "    kfold_data = []\n",
    "    for i in range(k):  # iterate over k to get k-fold index\n",
    "        tmp_train = []\n",
    "        tmp_val = np.sort(x_train_idx[i:num_elements*k:k]) # get valid data\n",
    "        # put others to training data\n",
    "        for j in range(len(x_train)):\n",
    "            if j not in tmp_val:\n",
    "                tmp_train.append(j)\n",
    "        tmp_train = np.array(tmp_train)\n",
    "        kfold_data.append([tmp_train, tmp_val])\n",
    "    return kfold_data"
   ]
  },
  {
   "cell_type": "code",
   "execution_count": 6,
   "metadata": {},
   "outputs": [],
   "source": [
    "kfold_data = cross_validation(x_train, y_train, k=10)"
   ]
  },
  {
   "cell_type": "code",
   "execution_count": 7,
   "metadata": {},
   "outputs": [],
   "source": [
    "assert len(kfold_data) == 10 # should contain 10 fold of data\n",
    "assert len(kfold_data[0]) == 2 # each element should contain train fold and validation fold\n",
    "assert kfold_data[0][1].shape[0] == 55 # The number of data in each validation fold should equal to training data divieded by K"
   ]
  },
  {
   "cell_type": "markdown",
   "metadata": {},
   "source": [
    "## Example"
   ]
  },
  {
   "cell_type": "code",
   "execution_count": 8,
   "metadata": {},
   "outputs": [
    {
     "name": "stdout",
     "output_type": "stream",
     "text": [
      "Split: 1, Training index: [ 0  1  2  4  5  7  9 10 11 12 13 15 16 17 18 19], Validation index: [ 3  6  8 14]\n",
      "Split: 2, Training index: [ 2  3  4  6  7  8  9 11 12 13 14 15 16 17 18 19], Validation index: [ 0  1  5 10]\n",
      "Split: 3, Training index: [ 0  1  2  3  5  6  7  8 10 11 12 14 15 16 18 19], Validation index: [ 4  9 13 17]\n",
      "Split: 4, Training index: [ 0  1  3  4  5  6  8  9 10 11 13 14 15 16 17 18], Validation index: [ 2  7 12 19]\n",
      "Split: 5, Training index: [ 0  1  2  3  4  5  6  7  8  9 10 12 13 14 17 19], Validation index: [11 15 16 18]\n"
     ]
    }
   ],
   "source": [
    "from sklearn.model_selection import KFold\n",
    "\n",
    "X = np.arange(20)\n",
    "kf = KFold(n_splits=5, shuffle=True)\n",
    "kfold_data= []\n",
    "for i, (train_index, val_index) in enumerate(kf.split(X)):\n",
    "    print(\"Split: %s, Training index: %s, Validation index: %s\" % (i+1, train_index, val_index))\n",
    "    kfold_data.append([train_index, val_index])"
   ]
  },
  {
   "cell_type": "code",
   "execution_count": 9,
   "metadata": {},
   "outputs": [],
   "source": [
    "assert len(kfold_data) == 5 # should contain 5 fold of data\n",
    "assert len(kfold_data[0]) == 2 # each element should contains index of training fold and validation fold\n",
    "assert kfold_data[0][1].shape[0] == 4 # The number of data in each validation fold should equal to training data divieded by K"
   ]
  },
  {
   "cell_type": "markdown",
   "metadata": {},
   "source": [
    "## Question 2\n",
    "Using sklearn.svm.SVC to train a classifier on the provided train set and conduct the grid search of “C”, “kernel” and “gamma” to find the best parameters by cross-validation."
   ]
  },
  {
   "cell_type": "code",
   "execution_count": 10,
   "metadata": {},
   "outputs": [],
   "source": [
    "c_list = [0.1, 1, 10, 100, 1000, 1e4, 1e5]\n",
    "gamma_list = [1e-6, 1e-5, 1e-4, 0.001, 0.01, 0.1, 1, 10]"
   ]
  },
  {
   "cell_type": "markdown",
   "metadata": {},
   "source": [
    "The gridsearch function below is for SVM classification and regression.\n",
    "\n",
    "You can pass in the list of 'C' and 'gamma', which are important hyperparameters in SVM.\n",
    "\n",
    "It is going to find two hyperparameter one is 'C' and the other is 'gamma' for you.\n",
    "\n",
    "Specify the task you to do using 'mode' parameter."
   ]
  },
  {
   "cell_type": "code",
   "execution_count": 11,
   "metadata": {},
   "outputs": [],
   "source": [
    "def gridsearch(x, y, c_list, gamma_list, mode='clf', k=5):\n",
    "    scores = []\n",
    "    for c in c_list:\n",
    "        tmp_scores = []  # record the column of scores\n",
    "        for gamma in gamma_list:\n",
    "            kfold_idx = cross_validation(x, y, k=k)\n",
    "            avg_score = 0  # accumulate the accuracy in each fold\n",
    "            for fold_idx in kfold_idx:\n",
    "                if mode == 'clf':\n",
    "                    model = SVC(C=c, kernel='rbf', gamma=gamma)\n",
    "                else:\n",
    "                    model = SVR(C=c, kernel='rbf', gamma=gamma)\n",
    "                model.fit(x[fold_idx[0]], y[fold_idx[0]])\n",
    "                avg_score += model.score(x[fold_idx[1]], y[fold_idx[1]]) / k\n",
    "            tmp_scores.append(avg_score)\n",
    "        scores.append(tmp_scores)\n",
    "    scores = np.array(scores)\n",
    "    return scores, np.unravel_index(np.argmax(scores, axis=None), scores.shape)"
   ]
  },
  {
   "cell_type": "code",
   "execution_count": 12,
   "metadata": {},
   "outputs": [],
   "source": [
    "acc_array, idx = gridsearch(x_train, y_train, c_list, gamma_list, mode='clf')"
   ]
  },
  {
   "cell_type": "code",
   "execution_count": 13,
   "metadata": {},
   "outputs": [
    {
     "name": "stdout",
     "output_type": "stream",
     "text": [
      "Best parameters: {'C': 10000.0, 'Gamma': 0.001}\n",
      "Best acc: 0.8909090909090909\n"
     ]
    }
   ],
   "source": [
    "best_parameters = {'C': c_list[idx[0]], 'Gamma': gamma_list[idx[1]]}\n",
    "print(f'Best parameters: {best_parameters}')\n",
    "print(f'Best acc: {acc_array[idx]}')"
   ]
  },
  {
   "cell_type": "markdown",
   "metadata": {},
   "source": [
    "## Question 3\n",
    "Plot the grid search results of your SVM. The x, y represents the hyperparameters of “gamma” and “C”, respectively. And the color represents the average score of validation folds\n",
    "You reults should be look like this reference image below ![image](https://miro.medium.com/max/1296/1*wGWTup9r4cVytB5MOnsjdQ.png) "
   ]
  },
  {
   "cell_type": "code",
   "execution_count": 14,
   "metadata": {},
   "outputs": [
    {
     "data": {
      "image/png": "[encoded data removed]",
      "text/plain": [
       "<Figure size 720x504 with 2 Axes>"
      ]
     },
     "metadata": {
      "needs_background": "light"
     },
     "output_type": "display_data"
    }
   ],
   "source": [
    "import matplotlib.pyplot as plt\n",
    "\n",
    "plt.figure(figsize = (10, 7))\n",
    "c = plt.imshow(acc_array, cmap=plt.get_cmap('RdBu'))\n",
    "\n",
    "# draw x and y value\n",
    "plt.xticks(np.arange(len(gamma_list)), gamma_list)\n",
    "plt.yticks(np.arange(len(c_list)), c_list)\n",
    "\n",
    "# put the acc on the blocks\n",
    "for i in range(len(c_list)):\n",
    "    for j in range(len(gamma_list)):\n",
    "        text = plt.text(j, i, np.around(acc_array[i, j], 2),\n",
    "                        ha=\"center\", va=\"center\", color=\"w\")\n",
    "\n",
    "plt.xlabel('Gamma Parameter', fontsize=16)\n",
    "plt.ylabel('C Parameter', fontsize=16)\n",
    "plt.title('Hyperparameter Gridsearch', fontsize=20)\n",
    "plt.colorbar(c)\n",
    "plt.show()"
   ]
  },
  {
   "cell_type": "markdown",
   "metadata": {},
   "source": [
    "## Question 4\n",
    "Train your SVM model by the best parameters you found from question 2 on the whole training set and evaluate the performance on the test set. **You accuracy should over 0.85**"
   ]
  },
  {
   "cell_type": "code",
   "execution_count": 15,
   "metadata": {},
   "outputs": [
    {
     "name": "stdout",
     "output_type": "stream",
     "text": [
      "Accuracy score:  0.8958333333333334\n"
     ]
    }
   ],
   "source": [
    "best_model = SVC(C=best_parameters['C'], kernel='rbf', gamma=best_parameters['Gamma'])\n",
    "best_model.fit(x_train, y_train)\n",
    "\n",
    "y_pred = best_model.predict(x_test)\n",
    "print(\"Accuracy score: \", accuracy_score(y_pred, y_test))"
   ]
  },
  {
   "cell_type": "markdown",
   "metadata": {},
   "source": [
    "## Question 5\n",
    "Compare the performance of the model you have implemented in HW1 with the SVM"
   ]
  },
  {
   "cell_type": "code",
   "execution_count": 16,
   "metadata": {},
   "outputs": [],
   "source": [
    "train_df = pd.read_csv(\"../HW1/train_data.csv\")\n",
    "x_train = train_df['x_train'].to_numpy().reshape(-1,1)\n",
    "y_train = train_df['y_train'].to_numpy().reshape(-1,1)\n",
    "\n",
    "test_df = pd.read_csv(\"../HW1/test_data.csv\")\n",
    "x_test = test_df['x_test'].to_numpy().reshape(-1,1)\n",
    "y_test = test_df['y_test'].to_numpy().reshape(-1,1)"
   ]
  },
  {
   "cell_type": "markdown",
   "metadata": {},
   "source": [
    "### Linear Regression"
   ]
  },
  {
   "cell_type": "code",
   "execution_count": 17,
   "metadata": {},
   "outputs": [],
   "source": [
    "class LinearRegression:\n",
    "    def __init__(self, it=100, lr=1e-4):\n",
    "        self.w = np.random.rand(2)\n",
    "        self.it = 100\n",
    "        self.lr = lr\n",
    "        return\n",
    "    \n",
    "    def fit(self, x, y):\n",
    "        for i in range(self.it):\n",
    "            bias_x = np.insert(x, 0, 1, axis=1)\n",
    "            pred = np.dot(bias_x, self.w)\n",
    "            grad = np.dot(np.transpose(bias_x), np.subtract(pred, y))\n",
    "            self.w = self.w - self.lr * grad\n",
    "        return\n",
    "    \n",
    "    def pred(self, x):\n",
    "        bias_x = np.insert(x, 0, 1, axis=1)\n",
    "        pred = np.dot(bias_x, self.w)\n",
    "        return pred"
   ]
  },
  {
   "cell_type": "code",
   "execution_count": 18,
   "metadata": {},
   "outputs": [],
   "source": [
    "linear_regr = LinearRegression()\n",
    "linear_regr.fit(x_train, y_train.ravel())"
   ]
  },
  {
   "cell_type": "code",
   "execution_count": 19,
   "metadata": {},
   "outputs": [],
   "source": [
    "pred_linear = linear_regr.pred(x_test)"
   ]
  },
  {
   "cell_type": "markdown",
   "metadata": {},
   "source": [
    "### SVR"
   ]
  },
  {
   "cell_type": "code",
   "execution_count": 20,
   "metadata": {},
   "outputs": [],
   "source": [
    "c_list = [0.1, 1, 10, 100, 1000, 1e4, 1e5, 1e6]\n",
    "gamma_list = [1e-6, 1e-5, 1e-4, 0.001, 0.01, 0.1, 1, 10]"
   ]
  },
  {
   "cell_type": "code",
   "execution_count": 21,
   "metadata": {},
   "outputs": [],
   "source": [
    "scores, idx = gridsearch(x_train, y_train.ravel(), c_list, gamma_list, mode='regr')\n",
    "\n",
    "best_parameters = {'C': c_list[idx[0]], 'Gamma': gamma_list[idx[1]]}"
   ]
  },
  {
   "cell_type": "code",
   "execution_count": 22,
   "metadata": {},
   "outputs": [],
   "source": [
    "best_model = SVR(C=best_parameters['C'], kernel='rbf', gamma=best_parameters['Gamma'])\n",
    "best_model.fit(x_train, y_train.ravel())\n",
    "\n",
    "pred_svr = best_model.predict(x_test)"
   ]
  },
  {
   "cell_type": "code",
   "execution_count": 23,
   "metadata": {},
   "outputs": [
    {
     "name": "stdout",
     "output_type": "stream",
     "text": [
      "Square error of Linear regression: 0.4909021821186157\n",
      "Square error of SVM regresssion model: 0.49449139266015857\n"
     ]
    }
   ],
   "source": [
    "print(f\"Square error of Linear regression: {mean_squared_error(pred_linear, y_test.ravel())}\")\n",
    "print(f\"Square error of SVM regression model: {mean_squared_error(pred_svr, y_test.ravel())}\")"
   ]
  },
  {
   "cell_type": "code",
   "execution_count": null,
   "metadata": {},
   "outputs": [],
   "source": []
  }
 ],
 "metadata": {
  "kernelspec": {
   "display_name": "Python 3",
   "language": "python",
   "name": "python3"
  },
  "language_info": {
   "codemirror_mode": {
    "name": "ipython",
    "version": 3
   },
   "file_extension": ".py",
   "mimetype": "text/x-python",
   "name": "python",
   "nbconvert_exporter": "python",
   "pygments_lexer": "ipython3",
   "version": "3.6.9"
  }
 },
 "nbformat": 4,
 "nbformat_minor": 4
}
